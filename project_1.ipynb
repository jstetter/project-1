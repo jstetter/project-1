{
 "cells": [
  {
   "cell_type": "code",
   "execution_count": 57,
   "metadata": {},
   "outputs": [],
   "source": [
    "import requests\n",
    "import pandas as pd\n",
    "import matplotlib.pyplot as plt\n",
    "from census import Census\n",
    "import numpy as np\n",
    "from scipy import stats"
   ]
  },
  {
   "cell_type": "code",
   "execution_count": 3,
   "metadata": {},
   "outputs": [],
   "source": [
    "#Import crime data\n",
    "filepath = r'Resources\\UCR76_17.csv'\n",
    "crime_df = pd.read_csv(filepath)"
   ]
  },
  {
   "cell_type": "code",
   "execution_count": 4,
   "metadata": {},
   "outputs": [
    {
     "data": {
      "text/html": [
       "<div>\n",
       "<style scoped>\n",
       "    .dataframe tbody tr th:only-of-type {\n",
       "        vertical-align: middle;\n",
       "    }\n",
       "\n",
       "    .dataframe tbody tr th {\n",
       "        vertical-align: top;\n",
       "    }\n",
       "\n",
       "    .dataframe thead th {\n",
       "        text-align: right;\n",
       "    }\n",
       "</style>\n",
       "<table border=\"1\" class=\"dataframe\">\n",
       "  <thead>\n",
       "    <tr style=\"text-align: right;\">\n",
       "      <th></th>\n",
       "      <th>id</th>\n",
       "      <th>State_Code</th>\n",
       "      <th>State_Name</th>\n",
       "      <th>State_ab</th>\n",
       "      <th>County</th>\n",
       "      <th>City</th>\n",
       "      <th>Place</th>\n",
       "      <th>Type</th>\n",
       "      <th>Primary</th>\n",
       "      <th>Zip_Code</th>\n",
       "      <th>Area_Code</th>\n",
       "      <th>ALand</th>\n",
       "      <th>AWater</th>\n",
       "      <th>Lat</th>\n",
       "      <th>Lon</th>\n",
       "      <th>Mean</th>\n",
       "      <th>Median</th>\n",
       "      <th>Stdev</th>\n",
       "      <th>sum_w</th>\n",
       "    </tr>\n",
       "  </thead>\n",
       "  <tbody>\n",
       "    <tr>\n",
       "      <th>0</th>\n",
       "      <td>1011000</td>\n",
       "      <td>1</td>\n",
       "      <td>Alabama</td>\n",
       "      <td>AL</td>\n",
       "      <td>Mobile County</td>\n",
       "      <td>Chickasaw</td>\n",
       "      <td>Chickasaw city</td>\n",
       "      <td>City</td>\n",
       "      <td>place</td>\n",
       "      <td>36611</td>\n",
       "      <td>251</td>\n",
       "      <td>10894952</td>\n",
       "      <td>909156</td>\n",
       "      <td>30.771450</td>\n",
       "      <td>-88.079697</td>\n",
       "      <td>38773</td>\n",
       "      <td>30506</td>\n",
       "      <td>33101</td>\n",
       "      <td>1638.260513</td>\n",
       "    </tr>\n",
       "    <tr>\n",
       "      <th>1</th>\n",
       "      <td>1011010</td>\n",
       "      <td>1</td>\n",
       "      <td>Alabama</td>\n",
       "      <td>AL</td>\n",
       "      <td>Barbour County</td>\n",
       "      <td>Louisville</td>\n",
       "      <td>Clio city</td>\n",
       "      <td>City</td>\n",
       "      <td>place</td>\n",
       "      <td>36048</td>\n",
       "      <td>334</td>\n",
       "      <td>26070325</td>\n",
       "      <td>23254</td>\n",
       "      <td>31.708516</td>\n",
       "      <td>-85.611039</td>\n",
       "      <td>37725</td>\n",
       "      <td>19528</td>\n",
       "      <td>43789</td>\n",
       "      <td>258.017685</td>\n",
       "    </tr>\n",
       "    <tr>\n",
       "      <th>2</th>\n",
       "      <td>1011020</td>\n",
       "      <td>1</td>\n",
       "      <td>Alabama</td>\n",
       "      <td>AL</td>\n",
       "      <td>Shelby County</td>\n",
       "      <td>Columbiana</td>\n",
       "      <td>Columbiana city</td>\n",
       "      <td>City</td>\n",
       "      <td>place</td>\n",
       "      <td>35051</td>\n",
       "      <td>205</td>\n",
       "      <td>44835274</td>\n",
       "      <td>261034</td>\n",
       "      <td>33.191452</td>\n",
       "      <td>-86.615618</td>\n",
       "      <td>54606</td>\n",
       "      <td>31930</td>\n",
       "      <td>57348</td>\n",
       "      <td>926.031000</td>\n",
       "    </tr>\n",
       "    <tr>\n",
       "      <th>3</th>\n",
       "      <td>1011030</td>\n",
       "      <td>1</td>\n",
       "      <td>Alabama</td>\n",
       "      <td>AL</td>\n",
       "      <td>Mobile County</td>\n",
       "      <td>Satsuma</td>\n",
       "      <td>Creola city</td>\n",
       "      <td>City</td>\n",
       "      <td>place</td>\n",
       "      <td>36572</td>\n",
       "      <td>251</td>\n",
       "      <td>36878729</td>\n",
       "      <td>2374530</td>\n",
       "      <td>30.874343</td>\n",
       "      <td>-88.009442</td>\n",
       "      <td>63919</td>\n",
       "      <td>52814</td>\n",
       "      <td>47707</td>\n",
       "      <td>378.114619</td>\n",
       "    </tr>\n",
       "    <tr>\n",
       "      <th>4</th>\n",
       "      <td>1011040</td>\n",
       "      <td>1</td>\n",
       "      <td>Alabama</td>\n",
       "      <td>AL</td>\n",
       "      <td>Mobile County</td>\n",
       "      <td>Dauphin Island</td>\n",
       "      <td>Dauphin Island</td>\n",
       "      <td>Town</td>\n",
       "      <td>place</td>\n",
       "      <td>36528</td>\n",
       "      <td>251</td>\n",
       "      <td>16204185</td>\n",
       "      <td>413605152</td>\n",
       "      <td>30.250913</td>\n",
       "      <td>-88.171268</td>\n",
       "      <td>77948</td>\n",
       "      <td>67225</td>\n",
       "      <td>54270</td>\n",
       "      <td>282.320328</td>\n",
       "    </tr>\n",
       "  </tbody>\n",
       "</table>\n",
       "</div>"
      ],
      "text/plain": [
       "        id  State_Code State_Name State_ab          County            City  \\\n",
       "0  1011000           1    Alabama       AL   Mobile County       Chickasaw   \n",
       "1  1011010           1    Alabama       AL  Barbour County      Louisville   \n",
       "2  1011020           1    Alabama       AL   Shelby County      Columbiana   \n",
       "3  1011030           1    Alabama       AL   Mobile County         Satsuma   \n",
       "4  1011040           1    Alabama       AL   Mobile County  Dauphin Island   \n",
       "\n",
       "             Place  Type Primary  Zip_Code Area_Code     ALand     AWater  \\\n",
       "0   Chickasaw city  City   place     36611       251  10894952     909156   \n",
       "1        Clio city  City   place     36048       334  26070325      23254   \n",
       "2  Columbiana city  City   place     35051       205  44835274     261034   \n",
       "3      Creola city  City   place     36572       251  36878729    2374530   \n",
       "4   Dauphin Island  Town   place     36528       251  16204185  413605152   \n",
       "\n",
       "         Lat        Lon   Mean  Median  Stdev        sum_w  \n",
       "0  30.771450 -88.079697  38773   30506  33101  1638.260513  \n",
       "1  31.708516 -85.611039  37725   19528  43789   258.017685  \n",
       "2  33.191452 -86.615618  54606   31930  57348   926.031000  \n",
       "3  30.874343 -88.009442  63919   52814  47707   378.114619  \n",
       "4  30.250913 -88.171268  77948   67225  54270   282.320328  "
      ]
     },
     "execution_count": 4,
     "metadata": {},
     "output_type": "execute_result"
    }
   ],
   "source": [
    "#Import income data (2017)\n",
    "filepath1 = r'Resources\\kaggle_income2.xlsx'\n",
    "income_df = pd.read_excel(filepath1)\n",
    "#view income data\n",
    "income_df.head()"
   ]
  },
  {
   "cell_type": "code",
   "execution_count": 5,
   "metadata": {},
   "outputs": [],
   "source": [
    "#filter crime data for year 2017 to match the income data\n",
    "crime_df = crime_df.loc[crime_df['YEAR']==2017]"
   ]
  },
  {
   "cell_type": "code",
   "execution_count": 6,
   "metadata": {
    "scrolled": true
   },
   "outputs": [],
   "source": [
    "#Split of the state abbreviation from each of the counties on the crime dataframe\n",
    "crime_df['County1'] = crime_df['County'].str.split(',').str[0]"
   ]
  },
  {
   "cell_type": "code",
   "execution_count": 7,
   "metadata": {},
   "outputs": [],
   "source": [
    "# Add county to the end of each county entry in the crime dataframe to match the format of the income dataframe\n",
    "crime_df['County'] = crime_df['County1'] + \" \" + 'County'"
   ]
  },
  {
   "cell_type": "code",
   "execution_count": 8,
   "metadata": {},
   "outputs": [
    {
     "data": {
      "text/html": [
       "<div>\n",
       "<style scoped>\n",
       "    .dataframe tbody tr th:only-of-type {\n",
       "        vertical-align: middle;\n",
       "    }\n",
       "\n",
       "    .dataframe tbody tr th {\n",
       "        vertical-align: top;\n",
       "    }\n",
       "\n",
       "    .dataframe thead th {\n",
       "        text-align: right;\n",
       "    }\n",
       "</style>\n",
       "<table border=\"1\" class=\"dataframe\">\n",
       "  <thead>\n",
       "    <tr style=\"text-align: right;\">\n",
       "      <th></th>\n",
       "      <th></th>\n",
       "      <th>MRD</th>\n",
       "      <th>CLR</th>\n",
       "    </tr>\n",
       "    <tr>\n",
       "      <th>County</th>\n",
       "      <th>State</th>\n",
       "      <th></th>\n",
       "      <th></th>\n",
       "    </tr>\n",
       "  </thead>\n",
       "  <tbody>\n",
       "    <tr>\n",
       "      <th>Abbeville County</th>\n",
       "      <th>South Carolina</th>\n",
       "      <td>1</td>\n",
       "      <td>0</td>\n",
       "    </tr>\n",
       "    <tr>\n",
       "      <th>Acadia County</th>\n",
       "      <th>Louisiana</th>\n",
       "      <td>7</td>\n",
       "      <td>4</td>\n",
       "    </tr>\n",
       "    <tr>\n",
       "      <th>Accomack County</th>\n",
       "      <th>Virginia</th>\n",
       "      <td>3</td>\n",
       "      <td>3</td>\n",
       "    </tr>\n",
       "    <tr>\n",
       "      <th>Ada County</th>\n",
       "      <th>Idaho</th>\n",
       "      <td>3</td>\n",
       "      <td>2</td>\n",
       "    </tr>\n",
       "    <tr>\n",
       "      <th>Adair County</th>\n",
       "      <th>Kentucky</th>\n",
       "      <td>2</td>\n",
       "      <td>2</td>\n",
       "    </tr>\n",
       "  </tbody>\n",
       "</table>\n",
       "</div>"
      ],
      "text/plain": [
       "                                 MRD  CLR\n",
       "County           State                   \n",
       "Abbeville County South Carolina    1    0\n",
       "Acadia County    Louisiana         7    4\n",
       "Accomack County  Virginia          3    3\n",
       "Ada County       Idaho             3    2\n",
       "Adair County     Kentucky          2    2"
      ]
     },
     "execution_count": 8,
     "metadata": {},
     "output_type": "execute_result"
    }
   ],
   "source": [
    "#Pivot on County and sum the murders to get the total amount of murders for the whole county\n",
    "crime_df2 = crime_df.groupby(['County','State']).sum()[['MRD','CLR']]\n",
    "#view the new table\n",
    "crime_df2.head()"
   ]
  },
  {
   "cell_type": "code",
   "execution_count": 9,
   "metadata": {},
   "outputs": [],
   "source": [
    "#rename the State column on the income dataframe\n",
    "income_df = income_df.rename(columns={'State_Name': 'State'})"
   ]
  },
  {
   "cell_type": "code",
   "execution_count": 10,
   "metadata": {
    "scrolled": false
   },
   "outputs": [],
   "source": [
    "#pivot the income data on County and State and grab the average salary by County\n",
    "income_df2 = income_df.groupby(['County','State']).mean()['Mean']"
   ]
  },
  {
   "cell_type": "code",
   "execution_count": 15,
   "metadata": {
    "scrolled": true
   },
   "outputs": [
    {
     "data": {
      "text/html": [
       "<div>\n",
       "<style scoped>\n",
       "    .dataframe tbody tr th:only-of-type {\n",
       "        vertical-align: middle;\n",
       "    }\n",
       "\n",
       "    .dataframe tbody tr th {\n",
       "        vertical-align: top;\n",
       "    }\n",
       "\n",
       "    .dataframe thead th {\n",
       "        text-align: right;\n",
       "    }\n",
       "</style>\n",
       "<table border=\"1\" class=\"dataframe\">\n",
       "  <thead>\n",
       "    <tr style=\"text-align: right;\">\n",
       "      <th></th>\n",
       "      <th>County</th>\n",
       "      <th>State</th>\n",
       "      <th>MRD</th>\n",
       "      <th>CLR</th>\n",
       "      <th>Mean</th>\n",
       "    </tr>\n",
       "  </thead>\n",
       "  <tbody>\n",
       "    <tr>\n",
       "      <th>0</th>\n",
       "      <td>Abbeville County</td>\n",
       "      <td>South Carolina</td>\n",
       "      <td>1</td>\n",
       "      <td>0</td>\n",
       "      <td>56507.667464</td>\n",
       "    </tr>\n",
       "    <tr>\n",
       "      <th>1</th>\n",
       "      <td>Accomack County</td>\n",
       "      <td>Virginia</td>\n",
       "      <td>3</td>\n",
       "      <td>3</td>\n",
       "      <td>79689.473973</td>\n",
       "    </tr>\n",
       "    <tr>\n",
       "      <th>2</th>\n",
       "      <td>Ada County</td>\n",
       "      <td>Idaho</td>\n",
       "      <td>3</td>\n",
       "      <td>2</td>\n",
       "      <td>57745.826772</td>\n",
       "    </tr>\n",
       "    <tr>\n",
       "      <th>3</th>\n",
       "      <td>Adair County</td>\n",
       "      <td>Kentucky</td>\n",
       "      <td>2</td>\n",
       "      <td>2</td>\n",
       "      <td>55499.625000</td>\n",
       "    </tr>\n",
       "    <tr>\n",
       "      <th>4</th>\n",
       "      <td>Adair County</td>\n",
       "      <td>Missouri</td>\n",
       "      <td>1</td>\n",
       "      <td>1</td>\n",
       "      <td>58124.035533</td>\n",
       "    </tr>\n",
       "  </tbody>\n",
       "</table>\n",
       "</div>"
      ],
      "text/plain": [
       "             County           State  MRD  CLR          Mean\n",
       "0  Abbeville County  South Carolina    1    0  56507.667464\n",
       "1   Accomack County        Virginia    3    3  79689.473973\n",
       "2        Ada County           Idaho    3    2  57745.826772\n",
       "3      Adair County        Kentucky    2    2  55499.625000\n",
       "4      Adair County        Missouri    1    1  58124.035533"
      ]
     },
     "execution_count": 15,
     "metadata": {},
     "output_type": "execute_result"
    }
   ],
   "source": [
    "#combine the crime dataframe and the income dataframe on their shared indices\n",
    "combined_df2 = pd.merge(crime_df2, income_df2, left_index=True, right_index=True)\n",
    "#pop out the index\n",
    "combined_df2 = combined_df2.reset_index()\n",
    "#view the new merged dataframe\n",
    "combined_df2.head()"
   ]
  },
  {
   "cell_type": "code",
   "execution_count": 18,
   "metadata": {},
   "outputs": [
    {
     "data": {
      "text/plain": [
       "<matplotlib.collections.PathCollection at 0x1f092e5e5f8>"
      ]
     },
     "execution_count": 18,
     "metadata": {},
     "output_type": "execute_result"
    },
    {
     "data": {
      "image/png": "[encoded data removed]",
      "text/plain": [
       "<Figure size 432x288 with 1 Axes>"
      ]
     },
     "metadata": {
      "needs_background": "light"
     },
     "output_type": "display_data"
    }
   ],
   "source": [
    "#Plot mean income vs quantity of murders\n",
    "plt.scatter(combined_df2['Mean'], combined_df2['MRD'])"
   ]
  },
  {
   "cell_type": "code",
   "execution_count": 22,
   "metadata": {},
   "outputs": [],
   "source": [
    "#Read in population data\n",
    "population_by_county = pd.read_excel(r'Resources\\population_by_county.xlsx')\n",
    "#rename columns\n",
    "population_by_county = population_by_county.rename(columns={'Geography':'State', \n",
    "                                                            'Geography.2':'County','Population Estimate - April 1, 2010 Estimates Base':'Population'})"
   ]
  },
  {
   "cell_type": "code",
   "execution_count": 23,
   "metadata": {
    "scrolled": true
   },
   "outputs": [
    {
     "data": {
      "text/html": [
       "<div>\n",
       "<style scoped>\n",
       "    .dataframe tbody tr th:only-of-type {\n",
       "        vertical-align: middle;\n",
       "    }\n",
       "\n",
       "    .dataframe tbody tr th {\n",
       "        vertical-align: top;\n",
       "    }\n",
       "\n",
       "    .dataframe thead th {\n",
       "        text-align: right;\n",
       "    }\n",
       "</style>\n",
       "<table border=\"1\" class=\"dataframe\">\n",
       "  <thead>\n",
       "    <tr style=\"text-align: right;\">\n",
       "      <th></th>\n",
       "      <th>Id</th>\n",
       "      <th>Id2</th>\n",
       "      <th>State</th>\n",
       "      <th>Target Geo Id</th>\n",
       "      <th>Target Geo Id2</th>\n",
       "      <th>Geography.1</th>\n",
       "      <th>County</th>\n",
       "      <th>Population</th>\n",
       "      <th>Population Estimate - July 1, 2017</th>\n",
       "      <th>Change, 2010 to 2017 - Number</th>\n",
       "      <th>Change, 2010 to 2017 - Percent [1]</th>\n",
       "      <th>Rankings - Population Estimate - April 1, 2010 Estimates Base</th>\n",
       "      <th>Rankings - Population Estimate - July 1, 2017</th>\n",
       "      <th>Rankings - Change, 2010 to 2017 - Number</th>\n",
       "      <th>Rankings - Change, 2010 to 2017 - Percent</th>\n",
       "    </tr>\n",
       "  </thead>\n",
       "  <tbody>\n",
       "    <tr>\n",
       "      <th>0</th>\n",
       "      <td>0400000US01</td>\n",
       "      <td>1</td>\n",
       "      <td>Alabama</td>\n",
       "      <td>0400000US01</td>\n",
       "      <td>1</td>\n",
       "      <td>Alabama</td>\n",
       "      <td>Alabama</td>\n",
       "      <td>4780135</td>\n",
       "      <td>4874747</td>\n",
       "      <td>94612</td>\n",
       "      <td>2.0</td>\n",
       "      <td>(X)</td>\n",
       "      <td>(X)</td>\n",
       "      <td>(X)</td>\n",
       "      <td>(X)</td>\n",
       "    </tr>\n",
       "    <tr>\n",
       "      <th>1</th>\n",
       "      <td>0400000US01</td>\n",
       "      <td>1</td>\n",
       "      <td>Alabama</td>\n",
       "      <td>0500000US01001</td>\n",
       "      <td>1001</td>\n",
       "      <td>Alabama - Autauga County</td>\n",
       "      <td>Autauga County</td>\n",
       "      <td>54571</td>\n",
       "      <td>55504</td>\n",
       "      <td>933</td>\n",
       "      <td>1.7</td>\n",
       "      <td>23</td>\n",
       "      <td>24</td>\n",
       "      <td>14</td>\n",
       "      <td>15</td>\n",
       "    </tr>\n",
       "    <tr>\n",
       "      <th>2</th>\n",
       "      <td>0400000US01</td>\n",
       "      <td>1</td>\n",
       "      <td>Alabama</td>\n",
       "      <td>0500000US01003</td>\n",
       "      <td>1003</td>\n",
       "      <td>Alabama - Baldwin County</td>\n",
       "      <td>Baldwin County</td>\n",
       "      <td>182265</td>\n",
       "      <td>212628</td>\n",
       "      <td>30363</td>\n",
       "      <td>16.7</td>\n",
       "      <td>7</td>\n",
       "      <td>6</td>\n",
       "      <td>1</td>\n",
       "      <td>1</td>\n",
       "    </tr>\n",
       "    <tr>\n",
       "      <th>3</th>\n",
       "      <td>0400000US01</td>\n",
       "      <td>1</td>\n",
       "      <td>Alabama</td>\n",
       "      <td>0500000US01005</td>\n",
       "      <td>1005</td>\n",
       "      <td>Alabama - Barbour County</td>\n",
       "      <td>Barbour County</td>\n",
       "      <td>27457</td>\n",
       "      <td>25270</td>\n",
       "      <td>-2187</td>\n",
       "      <td>-8.0</td>\n",
       "      <td>39</td>\n",
       "      <td>41</td>\n",
       "      <td>61</td>\n",
       "      <td>61</td>\n",
       "    </tr>\n",
       "    <tr>\n",
       "      <th>4</th>\n",
       "      <td>0400000US01</td>\n",
       "      <td>1</td>\n",
       "      <td>Alabama</td>\n",
       "      <td>0500000US01007</td>\n",
       "      <td>1007</td>\n",
       "      <td>Alabama - Bibb County</td>\n",
       "      <td>Bibb County</td>\n",
       "      <td>22919</td>\n",
       "      <td>22668</td>\n",
       "      <td>-251</td>\n",
       "      <td>-1.1</td>\n",
       "      <td>45</td>\n",
       "      <td>45</td>\n",
       "      <td>30</td>\n",
       "      <td>31</td>\n",
       "    </tr>\n",
       "  </tbody>\n",
       "</table>\n",
       "</div>"
      ],
      "text/plain": [
       "            Id  Id2    State   Target Geo Id  Target Geo Id2  \\\n",
       "0  0400000US01    1  Alabama     0400000US01               1   \n",
       "1  0400000US01    1  Alabama  0500000US01001            1001   \n",
       "2  0400000US01    1  Alabama  0500000US01003            1003   \n",
       "3  0400000US01    1  Alabama  0500000US01005            1005   \n",
       "4  0400000US01    1  Alabama  0500000US01007            1007   \n",
       "\n",
       "                Geography.1          County  Population  \\\n",
       "0                   Alabama         Alabama     4780135   \n",
       "1  Alabama - Autauga County  Autauga County       54571   \n",
       "2  Alabama - Baldwin County  Baldwin County      182265   \n",
       "3  Alabama - Barbour County  Barbour County       27457   \n",
       "4     Alabama - Bibb County     Bibb County       22919   \n",
       "\n",
       "   Population Estimate - July 1, 2017  Change, 2010 to 2017 - Number  \\\n",
       "0                             4874747                          94612   \n",
       "1                               55504                            933   \n",
       "2                              212628                          30363   \n",
       "3                               25270                          -2187   \n",
       "4                               22668                           -251   \n",
       "\n",
       "   Change, 2010 to 2017 - Percent [1]  \\\n",
       "0                                 2.0   \n",
       "1                                 1.7   \n",
       "2                                16.7   \n",
       "3                                -8.0   \n",
       "4                                -1.1   \n",
       "\n",
       "  Rankings - Population Estimate - April 1, 2010 Estimates Base  \\\n",
       "0                                                (X)              \n",
       "1                                                 23              \n",
       "2                                                  7              \n",
       "3                                                 39              \n",
       "4                                                 45              \n",
       "\n",
       "  Rankings - Population Estimate - July 1, 2017  \\\n",
       "0                                           (X)   \n",
       "1                                            24   \n",
       "2                                             6   \n",
       "3                                            41   \n",
       "4                                            45   \n",
       "\n",
       "  Rankings - Change, 2010 to 2017 - Number  \\\n",
       "0                                      (X)   \n",
       "1                                       14   \n",
       "2                                        1   \n",
       "3                                       61   \n",
       "4                                       30   \n",
       "\n",
       "  Rankings - Change, 2010 to 2017 - Percent  \n",
       "0                                       (X)  \n",
       "1                                        15  \n",
       "2                                         1  \n",
       "3                                        61  \n",
       "4                                        31  "
      ]
     },
     "execution_count": 23,
     "metadata": {},
     "output_type": "execute_result"
    }
   ],
   "source": [
    "#view population data\n",
    "population_by_county.head()"
   ]
  },
  {
   "cell_type": "code",
   "execution_count": 30,
   "metadata": {},
   "outputs": [
    {
     "data": {
      "text/html": [
       "<div>\n",
       "<style scoped>\n",
       "    .dataframe tbody tr th:only-of-type {\n",
       "        vertical-align: middle;\n",
       "    }\n",
       "\n",
       "    .dataframe tbody tr th {\n",
       "        vertical-align: top;\n",
       "    }\n",
       "\n",
       "    .dataframe thead th {\n",
       "        text-align: right;\n",
       "    }\n",
       "</style>\n",
       "<table border=\"1\" class=\"dataframe\">\n",
       "  <thead>\n",
       "    <tr style=\"text-align: right;\">\n",
       "      <th></th>\n",
       "      <th>County</th>\n",
       "      <th>State</th>\n",
       "      <th>Population</th>\n",
       "      <th>Id2</th>\n",
       "    </tr>\n",
       "  </thead>\n",
       "  <tbody>\n",
       "    <tr>\n",
       "      <th>0</th>\n",
       "      <td>Abbeville County</td>\n",
       "      <td>South Carolina</td>\n",
       "      <td>25416</td>\n",
       "      <td>45</td>\n",
       "    </tr>\n",
       "    <tr>\n",
       "      <th>1</th>\n",
       "      <td>Acadia Parish</td>\n",
       "      <td>Louisiana</td>\n",
       "      <td>61770</td>\n",
       "      <td>22</td>\n",
       "    </tr>\n",
       "    <tr>\n",
       "      <th>2</th>\n",
       "      <td>Accomack County</td>\n",
       "      <td>Virginia</td>\n",
       "      <td>33164</td>\n",
       "      <td>51</td>\n",
       "    </tr>\n",
       "    <tr>\n",
       "      <th>3</th>\n",
       "      <td>Ada County</td>\n",
       "      <td>Idaho</td>\n",
       "      <td>392377</td>\n",
       "      <td>16</td>\n",
       "    </tr>\n",
       "    <tr>\n",
       "      <th>4</th>\n",
       "      <td>Adair County</td>\n",
       "      <td>Iowa</td>\n",
       "      <td>7682</td>\n",
       "      <td>19</td>\n",
       "    </tr>\n",
       "  </tbody>\n",
       "</table>\n",
       "</div>"
      ],
      "text/plain": [
       "             County           State  Population  Id2\n",
       "0  Abbeville County  South Carolina       25416   45\n",
       "1     Acadia Parish       Louisiana       61770   22\n",
       "2   Accomack County        Virginia       33164   51\n",
       "3        Ada County           Idaho      392377   16\n",
       "4      Adair County            Iowa        7682   19"
      ]
     },
     "execution_count": 30,
     "metadata": {},
     "output_type": "execute_result"
    }
   ],
   "source": [
    "#pivot the population dataframe on the County and State and sum the population \n",
    "new_population_df = population_by_county.groupby(['County','State']).sum()[['Population','Id2']]\n",
    "#pop out the county and state from the index\n",
    "new_population_df = new_population_df.reset_index()\n",
    "#view the dataframe\n",
    "new_population_df.head()"
   ]
  },
  {
   "cell_type": "code",
   "execution_count": 31,
   "metadata": {},
   "outputs": [],
   "source": [
    "#merge the population dataframe with the other combined dataframe\n",
    "combined_df3 = pd.merge(combined_df2, new_population_df, left_on = ['County','State'], right_on = ['County','State'])\n",
    "#Eliminate the unecessary rows\n",
    "combined_df3 = combined_df3[['County', 'State', 'MRD', 'Mean', 'Population']]\n",
    "#Rename the columns\n",
    "combined_df3 = combined_df3.rename(columns={'Mean':'Average Household Income', 'Population':'Population (Estimate)'})"
   ]
  },
  {
   "cell_type": "code",
   "execution_count": 43,
   "metadata": {
    "scrolled": true
   },
   "outputs": [
    {
     "data": {
      "text/html": [
       "<div>\n",
       "<style scoped>\n",
       "    .dataframe tbody tr th:only-of-type {\n",
       "        vertical-align: middle;\n",
       "    }\n",
       "\n",
       "    .dataframe tbody tr th {\n",
       "        vertical-align: top;\n",
       "    }\n",
       "\n",
       "    .dataframe thead th {\n",
       "        text-align: right;\n",
       "    }\n",
       "</style>\n",
       "<table border=\"1\" class=\"dataframe\">\n",
       "  <thead>\n",
       "    <tr style=\"text-align: right;\">\n",
       "      <th></th>\n",
       "      <th>County</th>\n",
       "      <th>State</th>\n",
       "      <th>MRD</th>\n",
       "      <th>Average Household Income</th>\n",
       "      <th>Population (Estimate)</th>\n",
       "      <th>Per Capita Murder Rate</th>\n",
       "      <th>Murder Rate per 100,000</th>\n",
       "    </tr>\n",
       "  </thead>\n",
       "  <tbody>\n",
       "    <tr>\n",
       "      <th>183</th>\n",
       "      <td>Cook County</td>\n",
       "      <td>Illinois</td>\n",
       "      <td>733</td>\n",
       "      <td>70415.684211</td>\n",
       "      <td>5195075</td>\n",
       "      <td>0.000141</td>\n",
       "      <td>14.109517</td>\n",
       "    </tr>\n",
       "    <tr>\n",
       "      <th>456</th>\n",
       "      <td>Los Angeles County</td>\n",
       "      <td>California</td>\n",
       "      <td>580</td>\n",
       "      <td>80469.625000</td>\n",
       "      <td>9818696</td>\n",
       "      <td>0.000059</td>\n",
       "      <td>5.907098</td>\n",
       "    </tr>\n",
       "    <tr>\n",
       "      <th>326</th>\n",
       "      <td>Harris County</td>\n",
       "      <td>Texas</td>\n",
       "      <td>376</td>\n",
       "      <td>90458.500000</td>\n",
       "      <td>4093244</td>\n",
       "      <td>0.000092</td>\n",
       "      <td>9.185868</td>\n",
       "    </tr>\n",
       "    <tr>\n",
       "      <th>834</th>\n",
       "      <td>Wayne County</td>\n",
       "      <td>Michigan</td>\n",
       "      <td>302</td>\n",
       "      <td>73988.333333</td>\n",
       "      <td>1820573</td>\n",
       "      <td>0.000166</td>\n",
       "      <td>16.588184</td>\n",
       "    </tr>\n",
       "    <tr>\n",
       "      <th>480</th>\n",
       "      <td>Maricopa County</td>\n",
       "      <td>Arizona</td>\n",
       "      <td>251</td>\n",
       "      <td>75077.000000</td>\n",
       "      <td>3817361</td>\n",
       "      <td>0.000066</td>\n",
       "      <td>6.575223</td>\n",
       "    </tr>\n",
       "    <tr>\n",
       "      <th>155</th>\n",
       "      <td>Clark County</td>\n",
       "      <td>Nevada</td>\n",
       "      <td>238</td>\n",
       "      <td>55938.000000</td>\n",
       "      <td>1951269</td>\n",
       "      <td>0.000122</td>\n",
       "      <td>12.197191</td>\n",
       "    </tr>\n",
       "    <tr>\n",
       "      <th>205</th>\n",
       "      <td>Dallas County</td>\n",
       "      <td>Texas</td>\n",
       "      <td>207</td>\n",
       "      <td>98983.333333</td>\n",
       "      <td>2366776</td>\n",
       "      <td>0.000087</td>\n",
       "      <td>8.746075</td>\n",
       "    </tr>\n",
       "    <tr>\n",
       "      <th>514</th>\n",
       "      <td>Miami-Dade County</td>\n",
       "      <td>Florida</td>\n",
       "      <td>188</td>\n",
       "      <td>85332.222222</td>\n",
       "      <td>2498018</td>\n",
       "      <td>0.000075</td>\n",
       "      <td>7.525967</td>\n",
       "    </tr>\n",
       "    <tr>\n",
       "      <th>714</th>\n",
       "      <td>Shelby County</td>\n",
       "      <td>Tennessee</td>\n",
       "      <td>185</td>\n",
       "      <td>117661.000000</td>\n",
       "      <td>927683</td>\n",
       "      <td>0.000199</td>\n",
       "      <td>19.942157</td>\n",
       "    </tr>\n",
       "    <tr>\n",
       "      <th>367</th>\n",
       "      <td>Jackson County</td>\n",
       "      <td>Missouri</td>\n",
       "      <td>170</td>\n",
       "      <td>66809.500000</td>\n",
       "      <td>674124</td>\n",
       "      <td>0.000252</td>\n",
       "      <td>25.217912</td>\n",
       "    </tr>\n",
       "  </tbody>\n",
       "</table>\n",
       "</div>"
      ],
      "text/plain": [
       "                 County       State  MRD  Average Household Income  \\\n",
       "183         Cook County    Illinois  733              70415.684211   \n",
       "456  Los Angeles County  California  580              80469.625000   \n",
       "326       Harris County       Texas  376              90458.500000   \n",
       "834        Wayne County    Michigan  302              73988.333333   \n",
       "480     Maricopa County     Arizona  251              75077.000000   \n",
       "155        Clark County      Nevada  238              55938.000000   \n",
       "205       Dallas County       Texas  207              98983.333333   \n",
       "514   Miami-Dade County     Florida  188              85332.222222   \n",
       "714       Shelby County   Tennessee  185             117661.000000   \n",
       "367      Jackson County    Missouri  170              66809.500000   \n",
       "\n",
       "     Population (Estimate)  Per Capita Murder Rate  Murder Rate per 100,000  \n",
       "183                5195075                0.000141                14.109517  \n",
       "456                9818696                0.000059                 5.907098  \n",
       "326                4093244                0.000092                 9.185868  \n",
       "834                1820573                0.000166                16.588184  \n",
       "480                3817361                0.000066                 6.575223  \n",
       "155                1951269                0.000122                12.197191  \n",
       "205                2366776                0.000087                 8.746075  \n",
       "514                2498018                0.000075                 7.525967  \n",
       "714                 927683                0.000199                19.942157  \n",
       "367                 674124                0.000252                25.217912  "
      ]
     },
     "execution_count": 43,
     "metadata": {},
     "output_type": "execute_result"
    }
   ],
   "source": [
    "# Create new column murder rate per 100,000 people\n",
    "combined_df3['Murder Rate per 100,000'] = (combined_df3['MRD']/ combined_df3['Population (Estimate)'])*100000\n",
    "#Sort the values in descending order by murder rate to see the most dangerous counties\n",
    "combined_df3.sort_values(by = 'MRD', ascending = False).head(10)"
   ]
  },
  {
   "cell_type": "markdown",
   "metadata": {},
   "source": [
    "# T-Test Data"
   ]
  },
  {
   "cell_type": "code",
   "execution_count": 46,
   "metadata": {
    "scrolled": true
   },
   "outputs": [
    {
     "data": {
      "text/html": [
       "<div>\n",
       "<style scoped>\n",
       "    .dataframe tbody tr th:only-of-type {\n",
       "        vertical-align: middle;\n",
       "    }\n",
       "\n",
       "    .dataframe tbody tr th {\n",
       "        vertical-align: top;\n",
       "    }\n",
       "\n",
       "    .dataframe thead th {\n",
       "        text-align: right;\n",
       "    }\n",
       "</style>\n",
       "<table border=\"1\" class=\"dataframe\">\n",
       "  <thead>\n",
       "    <tr style=\"text-align: right;\">\n",
       "      <th></th>\n",
       "      <th>County</th>\n",
       "      <th>State</th>\n",
       "      <th>MRD</th>\n",
       "      <th>Average Household Income</th>\n",
       "      <th>Population (Estimate)</th>\n",
       "      <th>Per Capita Murder Rate</th>\n",
       "      <th>Murder Rate per 100,000</th>\n",
       "      <th>income_quartile</th>\n",
       "    </tr>\n",
       "  </thead>\n",
       "  <tbody>\n",
       "    <tr>\n",
       "      <th>0</th>\n",
       "      <td>Abbeville County</td>\n",
       "      <td>South Carolina</td>\n",
       "      <td>1</td>\n",
       "      <td>56507.667464</td>\n",
       "      <td>25416</td>\n",
       "      <td>0.000039</td>\n",
       "      <td>3.934529</td>\n",
       "      <td>q3</td>\n",
       "    </tr>\n",
       "    <tr>\n",
       "      <th>1</th>\n",
       "      <td>Accomack County</td>\n",
       "      <td>Virginia</td>\n",
       "      <td>3</td>\n",
       "      <td>79689.473973</td>\n",
       "      <td>33164</td>\n",
       "      <td>0.000090</td>\n",
       "      <td>9.045953</td>\n",
       "      <td>q4</td>\n",
       "    </tr>\n",
       "    <tr>\n",
       "      <th>2</th>\n",
       "      <td>Ada County</td>\n",
       "      <td>Idaho</td>\n",
       "      <td>3</td>\n",
       "      <td>57745.826772</td>\n",
       "      <td>392377</td>\n",
       "      <td>0.000008</td>\n",
       "      <td>0.764571</td>\n",
       "      <td>q3</td>\n",
       "    </tr>\n",
       "    <tr>\n",
       "      <th>3</th>\n",
       "      <td>Adair County</td>\n",
       "      <td>Kentucky</td>\n",
       "      <td>2</td>\n",
       "      <td>55499.625000</td>\n",
       "      <td>18655</td>\n",
       "      <td>0.000107</td>\n",
       "      <td>10.720986</td>\n",
       "      <td>q2</td>\n",
       "    </tr>\n",
       "    <tr>\n",
       "      <th>4</th>\n",
       "      <td>Adair County</td>\n",
       "      <td>Missouri</td>\n",
       "      <td>1</td>\n",
       "      <td>58124.035533</td>\n",
       "      <td>25607</td>\n",
       "      <td>0.000039</td>\n",
       "      <td>3.905182</td>\n",
       "      <td>q3</td>\n",
       "    </tr>\n",
       "  </tbody>\n",
       "</table>\n",
       "</div>"
      ],
      "text/plain": [
       "             County           State  MRD  Average Household Income  \\\n",
       "0  Abbeville County  South Carolina    1              56507.667464   \n",
       "1   Accomack County        Virginia    3              79689.473973   \n",
       "2        Ada County           Idaho    3              57745.826772   \n",
       "3      Adair County        Kentucky    2              55499.625000   \n",
       "4      Adair County        Missouri    1              58124.035533   \n",
       "\n",
       "   Population (Estimate)  Per Capita Murder Rate  Murder Rate per 100,000  \\\n",
       "0                  25416                0.000039                 3.934529   \n",
       "1                  33164                0.000090                 9.045953   \n",
       "2                 392377                0.000008                 0.764571   \n",
       "3                  18655                0.000107                10.720986   \n",
       "4                  25607                0.000039                 3.905182   \n",
       "\n",
       "  income_quartile  \n",
       "0              q3  \n",
       "1              q4  \n",
       "2              q3  \n",
       "3              q2  \n",
       "4              q3  "
      ]
     },
     "execution_count": 46,
     "metadata": {},
     "output_type": "execute_result"
    }
   ],
   "source": [
    "#add quartile columns for barchart\n",
    "combined_df3['income_quartile'] = pd.qcut(combined_df3['Average Household Income'], 4, ['q1','q2','q3','q4'])\n",
    "# combined_df3['Mean'].quantile([.1, .25, .5, .75], axis = 0)\n",
    "combined_df3.head()"
   ]
  },
  {
   "cell_type": "code",
   "execution_count": 63,
   "metadata": {
    "scrolled": true
   },
   "outputs": [
    {
     "data": {
      "text/html": [
       "<div>\n",
       "<style scoped>\n",
       "    .dataframe tbody tr th:only-of-type {\n",
       "        vertical-align: middle;\n",
       "    }\n",
       "\n",
       "    .dataframe tbody tr th {\n",
       "        vertical-align: top;\n",
       "    }\n",
       "\n",
       "    .dataframe thead th {\n",
       "        text-align: right;\n",
       "    }\n",
       "</style>\n",
       "<table border=\"1\" class=\"dataframe\">\n",
       "  <thead>\n",
       "    <tr style=\"text-align: right;\">\n",
       "      <th></th>\n",
       "      <th>Murder Rate per 100,000</th>\n",
       "      <th>MRD</th>\n",
       "    </tr>\n",
       "    <tr>\n",
       "      <th>income_quartile</th>\n",
       "      <th></th>\n",
       "      <th></th>\n",
       "    </tr>\n",
       "  </thead>\n",
       "  <tbody>\n",
       "    <tr>\n",
       "      <th>q1</th>\n",
       "      <td>1784.716479</td>\n",
       "      <td>1253</td>\n",
       "    </tr>\n",
       "    <tr>\n",
       "      <th>q2</th>\n",
       "      <td>1240.544553</td>\n",
       "      <td>1578</td>\n",
       "    </tr>\n",
       "    <tr>\n",
       "      <th>q3</th>\n",
       "      <td>1141.868757</td>\n",
       "      <td>3011</td>\n",
       "    </tr>\n",
       "    <tr>\n",
       "      <th>q4</th>\n",
       "      <td>1019.411783</td>\n",
       "      <td>5909</td>\n",
       "    </tr>\n",
       "  </tbody>\n",
       "</table>\n",
       "</div>"
      ],
      "text/plain": [
       "                 Murder Rate per 100,000   MRD\n",
       "income_quartile                               \n",
       "q1                           1784.716479  1253\n",
       "q2                           1240.544553  1578\n",
       "q3                           1141.868757  3011\n",
       "q4                           1019.411783  5909"
      ]
     },
     "execution_count": 63,
     "metadata": {},
     "output_type": "execute_result"
    }
   ],
   "source": [
    "combined_df3['Murder Rate per 100,000']= (combined_df3['MRD']/combined_df3['Population (Estimate)'])*100000\n",
    "test_df = combined_df3.groupby('income_quartile').sum()[['Murder Rate per 100,000', 'MRD']]\n",
    "test_df"
   ]
  },
  {
   "cell_type": "code",
   "execution_count": 64,
   "metadata": {},
   "outputs": [
    {
     "data": {
      "text/html": [
       "<div>\n",
       "<style scoped>\n",
       "    .dataframe tbody tr th:only-of-type {\n",
       "        vertical-align: middle;\n",
       "    }\n",
       "\n",
       "    .dataframe tbody tr th {\n",
       "        vertical-align: top;\n",
       "    }\n",
       "\n",
       "    .dataframe thead th {\n",
       "        text-align: right;\n",
       "    }\n",
       "</style>\n",
       "<table border=\"1\" class=\"dataframe\">\n",
       "  <thead>\n",
       "    <tr style=\"text-align: right;\">\n",
       "      <th></th>\n",
       "      <th>Murder Rate per 100,000</th>\n",
       "      <th>MRD</th>\n",
       "      <th>expected</th>\n",
       "    </tr>\n",
       "    <tr>\n",
       "      <th>income_quartile</th>\n",
       "      <th></th>\n",
       "      <th></th>\n",
       "      <th></th>\n",
       "    </tr>\n",
       "  </thead>\n",
       "  <tbody>\n",
       "    <tr>\n",
       "      <th>q1</th>\n",
       "      <td>1784.716479</td>\n",
       "      <td>1253</td>\n",
       "      <td>1296.635393</td>\n",
       "    </tr>\n",
       "    <tr>\n",
       "      <th>q2</th>\n",
       "      <td>1240.544553</td>\n",
       "      <td>1578</td>\n",
       "      <td>1296.635393</td>\n",
       "    </tr>\n",
       "    <tr>\n",
       "      <th>q3</th>\n",
       "      <td>1141.868757</td>\n",
       "      <td>3011</td>\n",
       "      <td>1296.635393</td>\n",
       "    </tr>\n",
       "    <tr>\n",
       "      <th>q4</th>\n",
       "      <td>1019.411783</td>\n",
       "      <td>5909</td>\n",
       "      <td>1296.635393</td>\n",
       "    </tr>\n",
       "  </tbody>\n",
       "</table>\n",
       "</div>"
      ],
      "text/plain": [
       "                 Murder Rate per 100,000   MRD     expected\n",
       "income_quartile                                            \n",
       "q1                           1784.716479  1253  1296.635393\n",
       "q2                           1240.544553  1578  1296.635393\n",
       "q3                           1141.868757  3011  1296.635393\n",
       "q4                           1019.411783  5909  1296.635393"
      ]
     },
     "execution_count": 64,
     "metadata": {},
     "output_type": "execute_result"
    }
   ],
   "source": [
    "test_df['expected'] = sum(test_df['Murder Rate per 100,000'])/4\n",
    "test_df"
   ]
  },
  {
   "cell_type": "markdown",
   "metadata": {},
   "source": [
    "# Statistical Test"
   ]
  },
  {
   "cell_type": "markdown",
   "metadata": {},
   "source": [
    "We are interested in determining whether average income has a relation to the murder rate per 100,000. Our null hypothesis is that murder is not related to income and therefore each quartile of the population should have the same murder rate per 100,000. "
   ]
  },
  {
   "cell_type": "code",
   "execution_count": 66,
   "metadata": {},
   "outputs": [
    {
     "data": {
      "text/plain": [
       "Power_divergenceResult(statistic=263.8945166887602, pvalue=6.461383259488625e-57)"
      ]
     },
     "execution_count": 66,
     "metadata": {},
     "output_type": "execute_result"
    }
   ],
   "source": [
    "#Chi Squared Test\n",
    "critical_value = stats.chi2.ppf(q = 0.95, df = 2)\n",
    "\n",
    "stats.chisquare(test_df['Murder Rate per 100,000'], test_df['expected'])"
   ]
  },
  {
   "cell_type": "markdown",
   "metadata": {},
   "source": [
    "Since our p-value is very low we reject the null hypothesis and conclude that income may have an affect on murder rates"
   ]
  },
  {
   "cell_type": "markdown",
   "metadata": {},
   "source": [
    "# Graphs"
   ]
  },
  {
   "cell_type": "code",
   "execution_count": 38,
   "metadata": {
    "scrolled": true
   },
   "outputs": [
    {
     "data": {
      "image/png": "[encoded data removed]",
      "text/plain": [
       "<Figure size 1440x576 with 1 Axes>"
      ]
     },
     "metadata": {
      "needs_background": "light"
     },
     "output_type": "display_data"
    }
   ],
   "source": [
    "plt.scatter(combined_df3['Average Household Income'], combined_df3['Murder Rate per 100,000'])\n",
    "plt.ylabel('Murder Rate per 100,000')\n",
    "plt.xlabel('Average Household Income')\n",
    "plt.title('Per Capita Income vs. Murder Rates')\n",
    "plt.rcParams[\"figure.figsize\"] = (20,8)"
   ]
  },
  {
   "cell_type": "code",
   "execution_count": 44,
   "metadata": {
    "scrolled": true
   },
   "outputs": [
    {
     "data": {
      "text/plain": [
       "Text(0.5, 1.0, 'Population vs. Murder rate per 100,000 residents)')"
      ]
     },
     "execution_count": 44,
     "metadata": {},
     "output_type": "execute_result"
    },
    {
     "data": {
      "image/png": "[encoded data removed]",
      "text/plain": [
       "<Figure size 1440x576 with 1 Axes>"
      ]
     },
     "metadata": {
      "needs_background": "light"
     },
     "output_type": "display_data"
    }
   ],
   "source": [
    "plt.scatter(combined_df3['Population (Estimate)'], combined_df3['MRD'])\n",
    "plt.ylabel('Murders (#)')\n",
    "plt.xlabel('Population (Estimate)')\n",
    "plt.title('Population vs. Murder rate per 100,000 residents)')"
   ]
  },
  {
   "cell_type": "code",
   "execution_count": 27,
   "metadata": {},
   "outputs": [
    {
     "data": {
      "image/png": "[encoded data removed]",
      "text/plain": [
       "<Figure size 1440x576 with 1 Axes>"
      ]
     },
     "metadata": {
      "needs_background": "light"
     },
     "output_type": "display_data"
    }
   ],
   "source": [
    "# Serenas Charts\n",
    "#Combined Murder data by state\n",
    "State_total = combined_df2.groupby(\"State\")['MRD'].sum()\n",
    "State_total\n",
    "#Bar chart\n",
    "Bar_chart = State_total.plot(kind='bar', color='red', fontsize=18)\n",
    "Bar_chart.set_title(\"Total Number of Murders per State\", fontsize=20)\n",
    "Bar_chart.set_xlabel(\"State\", fontsize=20)\n",
    "Bar_chart.set_ylabel(\"Number of Murders\", fontsize =16)\n",
    "plt.rcParams[\"figure.figsize\"] = (20,8)"
   ]
  },
  {
   "cell_type": "code",
   "execution_count": 68,
   "metadata": {},
   "outputs": [
    {
     "data": {
      "image/png": "[encoded data removed]",
      "text/plain": [
       "<Figure size 1440x576 with 1 Axes>"
      ]
     },
     "metadata": {},
     "output_type": "display_data"
    }
   ],
   "source": [
    "slices = [1253,1578,3011,5909]\n",
    "income_quartile = ['<25%', '25-50%', '50-75%', '>75%']\n",
    "col = ['red','yellow','green','blue']\n",
    "plt.pie(slices,\n",
    "       labels=income_quartile,\n",
    "       colors=col,\n",
    "       startangle=90,\n",
    "       shadow=True,\n",
    "       explode=(0,0,0,0),\n",
    "        autopct='%1.1f%%')\n",
    "plt.title(\"Murder Rate per Income Quartile\")\n",
    "plt.rcParams.update({'font.size':18})\n",
    "plt.show()"
   ]
  },
  {
   "cell_type": "code",
   "execution_count": null,
   "metadata": {},
   "outputs": [],
   "source": []
  }
 ],
 "metadata": {
  "kernelspec": {
   "display_name": "Python 3",
   "language": "python",
   "name": "python3"
  },
  "language_info": {
   "codemirror_mode": {
    "name": "ipython",
    "version": 3
   },
   "file_extension": ".py",
   "mimetype": "text/x-python",
   "name": "python",
   "nbconvert_exporter": "python",
   "pygments_lexer": "ipython3",
   "version": "3.7.3"
  }
 },
 "nbformat": 4,
 "nbformat_minor": 2
}
